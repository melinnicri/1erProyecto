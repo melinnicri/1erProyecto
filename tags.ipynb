{
 "cells": [
  {
   "cell_type": "markdown",
   "metadata": {},
   "source": [
    "Abrir Archivo para separar tags:"
   ]
  },
  {
   "cell_type": "code",
   "execution_count": 172,
   "metadata": {},
   "outputs": [],
   "source": [
    "# Importar librerías\n",
    "import csv\n",
    "import pandas as pd\n",
    "import json\n",
    "import numpy as np\n",
    "import ast"
   ]
  },
  {
   "cell_type": "code",
   "execution_count": 173,
   "metadata": {},
   "outputs": [],
   "source": [
    "#Abrir archivo .csv a dataframe\n",
    "df = pd.read_csv('First_Game_tags.csv', encoding = \"latin-1\")"
   ]
  },
  {
   "cell_type": "code",
   "execution_count": 174,
   "metadata": {},
   "outputs": [
    {
     "data": {
      "text/html": [
       "<div>\n",
       "<style scoped>\n",
       "    .dataframe tbody tr th:only-of-type {\n",
       "        vertical-align: middle;\n",
       "    }\n",
       "\n",
       "    .dataframe tbody tr th {\n",
       "        vertical-align: top;\n",
       "    }\n",
       "\n",
       "    .dataframe thead th {\n",
       "        text-align: right;\n",
       "    }\n",
       "</style>\n",
       "<table border=\"1\" class=\"dataframe\">\n",
       "  <thead>\n",
       "    <tr style=\"text-align: right;\">\n",
       "      <th></th>\n",
       "      <th>title</th>\n",
       "      <th>tags</th>\n",
       "      <th>developer</th>\n",
       "      <th>id</th>\n",
       "    </tr>\n",
       "  </thead>\n",
       "  <tbody>\n",
       "    <tr>\n",
       "      <th>0</th>\n",
       "      <td>Lost Summoner Kitty</td>\n",
       "      <td>['Strategy', 'Action', 'Indie', 'Casual', 'Sim...</td>\n",
       "      <td>Kotoshiro</td>\n",
       "      <td>761140.0</td>\n",
       "    </tr>\n",
       "    <tr>\n",
       "      <th>1</th>\n",
       "      <td>Lost Summoner Kitty</td>\n",
       "      <td>['Strategy', 'Action', 'Indie', 'Casual', 'Sim...</td>\n",
       "      <td>Kotoshiro</td>\n",
       "      <td>761140.0</td>\n",
       "    </tr>\n",
       "    <tr>\n",
       "      <th>2</th>\n",
       "      <td>Lost Summoner Kitty</td>\n",
       "      <td>['Strategy', 'Action', 'Indie', 'Casual', 'Sim...</td>\n",
       "      <td>Kotoshiro</td>\n",
       "      <td>761140.0</td>\n",
       "    </tr>\n",
       "    <tr>\n",
       "      <th>3</th>\n",
       "      <td>Lost Summoner Kitty</td>\n",
       "      <td>['Strategy', 'Action', 'Indie', 'Casual', 'Sim...</td>\n",
       "      <td>Kotoshiro</td>\n",
       "      <td>761140.0</td>\n",
       "    </tr>\n",
       "    <tr>\n",
       "      <th>4</th>\n",
       "      <td>Lost Summoner Kitty</td>\n",
       "      <td>['Strategy', 'Action', 'Indie', 'Casual', 'Sim...</td>\n",
       "      <td>Kotoshiro</td>\n",
       "      <td>761140.0</td>\n",
       "    </tr>\n",
       "    <tr>\n",
       "      <th>...</th>\n",
       "      <td>...</td>\n",
       "      <td>...</td>\n",
       "      <td>...</td>\n",
       "      <td>...</td>\n",
       "    </tr>\n",
       "    <tr>\n",
       "      <th>74832</th>\n",
       "      <td>Russian Roads</td>\n",
       "      <td>['Indie', 'Simulation', 'Racing']</td>\n",
       "      <td>Laush Dmitriy Sergeevich</td>\n",
       "      <td>610660.0</td>\n",
       "    </tr>\n",
       "    <tr>\n",
       "      <th>74833</th>\n",
       "      <td>Russian Roads</td>\n",
       "      <td>['Indie', 'Simulation', 'Racing']</td>\n",
       "      <td>Laush Dmitriy Sergeevich</td>\n",
       "      <td>610660.0</td>\n",
       "    </tr>\n",
       "    <tr>\n",
       "      <th>74834</th>\n",
       "      <td>EXIT 2 - Directions</td>\n",
       "      <td>['Indie', 'Casual', 'Puzzle', 'Singleplayer', ...</td>\n",
       "      <td>xropi,stev3ns</td>\n",
       "      <td>658870.0</td>\n",
       "    </tr>\n",
       "    <tr>\n",
       "      <th>74835</th>\n",
       "      <td>EXIT 2 - Directions</td>\n",
       "      <td>['Indie', 'Casual', 'Puzzle', 'Singleplayer', ...</td>\n",
       "      <td>xropi,stev3ns</td>\n",
       "      <td>658870.0</td>\n",
       "    </tr>\n",
       "    <tr>\n",
       "      <th>74836</th>\n",
       "      <td>NaN</td>\n",
       "      <td>['Early Access', 'Adventure', 'Indie', 'Action...</td>\n",
       "      <td>NaN</td>\n",
       "      <td>681550.0</td>\n",
       "    </tr>\n",
       "  </tbody>\n",
       "</table>\n",
       "<p>74837 rows × 4 columns</p>\n",
       "</div>"
      ],
      "text/plain": [
       "                     title                                               tags  \\\n",
       "0      Lost Summoner Kitty  ['Strategy', 'Action', 'Indie', 'Casual', 'Sim...   \n",
       "1      Lost Summoner Kitty  ['Strategy', 'Action', 'Indie', 'Casual', 'Sim...   \n",
       "2      Lost Summoner Kitty  ['Strategy', 'Action', 'Indie', 'Casual', 'Sim...   \n",
       "3      Lost Summoner Kitty  ['Strategy', 'Action', 'Indie', 'Casual', 'Sim...   \n",
       "4      Lost Summoner Kitty  ['Strategy', 'Action', 'Indie', 'Casual', 'Sim...   \n",
       "...                    ...                                                ...   \n",
       "74832        Russian Roads                  ['Indie', 'Simulation', 'Racing']   \n",
       "74833        Russian Roads                  ['Indie', 'Simulation', 'Racing']   \n",
       "74834  EXIT 2 - Directions  ['Indie', 'Casual', 'Puzzle', 'Singleplayer', ...   \n",
       "74835  EXIT 2 - Directions  ['Indie', 'Casual', 'Puzzle', 'Singleplayer', ...   \n",
       "74836                  NaN  ['Early Access', 'Adventure', 'Indie', 'Action...   \n",
       "\n",
       "                      developer        id  \n",
       "0                     Kotoshiro  761140.0  \n",
       "1                     Kotoshiro  761140.0  \n",
       "2                     Kotoshiro  761140.0  \n",
       "3                     Kotoshiro  761140.0  \n",
       "4                     Kotoshiro  761140.0  \n",
       "...                         ...       ...  \n",
       "74832  Laush Dmitriy Sergeevich  610660.0  \n",
       "74833  Laush Dmitriy Sergeevich  610660.0  \n",
       "74834             xropi,stev3ns  658870.0  \n",
       "74835             xropi,stev3ns  658870.0  \n",
       "74836                       NaN  681550.0  \n",
       "\n",
       "[74837 rows x 4 columns]"
      ]
     },
     "execution_count": 174,
     "metadata": {},
     "output_type": "execute_result"
    }
   ],
   "source": [
    "# Ver dataframe\n",
    "df"
   ]
  },
  {
   "cell_type": "code",
   "execution_count": 175,
   "metadata": {},
   "outputs": [
    {
     "name": "stdout",
     "output_type": "stream",
     "text": [
      "<class 'pandas.core.frame.DataFrame'>\n",
      "RangeIndex: 74837 entries, 0 to 74836\n",
      "Data columns (total 4 columns):\n",
      " #   Column     Non-Null Count  Dtype  \n",
      "---  ------     --------------  -----  \n",
      " 0   title      72786 non-null  object \n",
      " 1   tags       74652 non-null  object \n",
      " 2   developer  71358 non-null  object \n",
      " 3   id         74834 non-null  float64\n",
      "dtypes: float64(1), object(3)\n",
      "memory usage: 2.3+ MB\n"
     ]
    }
   ],
   "source": [
    "# Info de dataframe\n",
    "df.info()"
   ]
  },
  {
   "cell_type": "code",
   "execution_count": 176,
   "metadata": {},
   "outputs": [
    {
     "data": {
      "text/plain": [
       "title        2051\n",
       "tags          185\n",
       "developer    3479\n",
       "id              3\n",
       "dtype: int64"
      ]
     },
     "execution_count": 176,
     "metadata": {},
     "output_type": "execute_result"
    }
   ],
   "source": [
    "# Cuántas columnas con nulos\n",
    "df.isnull().sum() "
   ]
  },
  {
   "cell_type": "code",
   "execution_count": 177,
   "metadata": {},
   "outputs": [],
   "source": [
    "# Cambia los valores NaN por cero\n",
    "df.fillna(0, inplace=True)"
   ]
  },
  {
   "cell_type": "code",
   "execution_count": 178,
   "metadata": {},
   "outputs": [],
   "source": [
    "#Convertir la columna tags a string\n",
    "df[\"tags\"] = df[\"tags\"].astype(str)"
   ]
  },
  {
   "cell_type": "code",
   "execution_count": 182,
   "metadata": {},
   "outputs": [],
   "source": [
    "# Convierte la columna a tipo int32\n",
    "df[\"id\"] = df[\"id\"].astype(\"int32\")"
   ]
  },
  {
   "cell_type": "code",
   "execution_count": 186,
   "metadata": {},
   "outputs": [],
   "source": [
    "#Crear una nueva dataframe con tags y id sin duplicados\n",
    "df_tags = df[[\"tags\", \"id\"]]"
   ]
  },
  {
   "cell_type": "code",
   "execution_count": 187,
   "metadata": {},
   "outputs": [],
   "source": [
    "#Guardamos nueva data en un archivo .csv\n",
    "df_tags.to_csv('First_Game_desTag.csv', index=False)"
   ]
  }
 ],
 "metadata": {
  "kernelspec": {
   "display_name": "base",
   "language": "python",
   "name": "python3"
  },
  "language_info": {
   "codemirror_mode": {
    "name": "ipython",
    "version": 3
   },
   "file_extension": ".py",
   "mimetype": "text/x-python",
   "name": "python",
   "nbconvert_exporter": "python",
   "pygments_lexer": "ipython3",
   "version": "3.11.4"
  }
 },
 "nbformat": 4,
 "nbformat_minor": 2
}
