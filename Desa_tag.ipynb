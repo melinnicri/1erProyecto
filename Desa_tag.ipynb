{
 "cells": [
  {
   "cell_type": "markdown",
   "metadata": {},
   "source": [
    "Abrir Archivo para separar tags y dejarlo con id:"
   ]
  },
  {
   "cell_type": "code",
   "execution_count": 1,
   "metadata": {},
   "outputs": [],
   "source": [
    "# Importar librerías\n",
    "import csv\n",
    "import pandas as pd\n",
    "import json\n",
    "import numpy as np\n",
    "import ast"
   ]
  },
  {
   "cell_type": "code",
   "execution_count": 2,
   "metadata": {},
   "outputs": [],
   "source": [
    "#Abrir archivo .csv a dataframe\n",
    "df = pd.read_csv('First_Game_desTag.csv', encoding = \"latin-1\")"
   ]
  },
  {
   "cell_type": "code",
   "execution_count": 3,
   "metadata": {},
   "outputs": [
    {
     "data": {
      "text/html": [
       "<div>\n",
       "<style scoped>\n",
       "    .dataframe tbody tr th:only-of-type {\n",
       "        vertical-align: middle;\n",
       "    }\n",
       "\n",
       "    .dataframe tbody tr th {\n",
       "        vertical-align: top;\n",
       "    }\n",
       "\n",
       "    .dataframe thead th {\n",
       "        text-align: right;\n",
       "    }\n",
       "</style>\n",
       "<table border=\"1\" class=\"dataframe\">\n",
       "  <thead>\n",
       "    <tr style=\"text-align: right;\">\n",
       "      <th></th>\n",
       "      <th>tags</th>\n",
       "      <th>id</th>\n",
       "    </tr>\n",
       "  </thead>\n",
       "  <tbody>\n",
       "    <tr>\n",
       "      <th>0</th>\n",
       "      <td>['Strategy', 'Action', 'Indie', 'Casual', 'Sim...</td>\n",
       "      <td>761140</td>\n",
       "    </tr>\n",
       "    <tr>\n",
       "      <th>1</th>\n",
       "      <td>['Strategy', 'Action', 'Indie', 'Casual', 'Sim...</td>\n",
       "      <td>761140</td>\n",
       "    </tr>\n",
       "    <tr>\n",
       "      <th>2</th>\n",
       "      <td>['Strategy', 'Action', 'Indie', 'Casual', 'Sim...</td>\n",
       "      <td>761140</td>\n",
       "    </tr>\n",
       "    <tr>\n",
       "      <th>3</th>\n",
       "      <td>['Strategy', 'Action', 'Indie', 'Casual', 'Sim...</td>\n",
       "      <td>761140</td>\n",
       "    </tr>\n",
       "    <tr>\n",
       "      <th>4</th>\n",
       "      <td>['Strategy', 'Action', 'Indie', 'Casual', 'Sim...</td>\n",
       "      <td>761140</td>\n",
       "    </tr>\n",
       "    <tr>\n",
       "      <th>...</th>\n",
       "      <td>...</td>\n",
       "      <td>...</td>\n",
       "    </tr>\n",
       "    <tr>\n",
       "      <th>74832</th>\n",
       "      <td>['Indie', 'Simulation', 'Racing']</td>\n",
       "      <td>610660</td>\n",
       "    </tr>\n",
       "    <tr>\n",
       "      <th>74833</th>\n",
       "      <td>['Indie', 'Simulation', 'Racing']</td>\n",
       "      <td>610660</td>\n",
       "    </tr>\n",
       "    <tr>\n",
       "      <th>74834</th>\n",
       "      <td>['Indie', 'Casual', 'Puzzle', 'Singleplayer', ...</td>\n",
       "      <td>658870</td>\n",
       "    </tr>\n",
       "    <tr>\n",
       "      <th>74835</th>\n",
       "      <td>['Indie', 'Casual', 'Puzzle', 'Singleplayer', ...</td>\n",
       "      <td>658870</td>\n",
       "    </tr>\n",
       "    <tr>\n",
       "      <th>74836</th>\n",
       "      <td>['Early Access', 'Adventure', 'Indie', 'Action...</td>\n",
       "      <td>681550</td>\n",
       "    </tr>\n",
       "  </tbody>\n",
       "</table>\n",
       "<p>74837 rows × 2 columns</p>\n",
       "</div>"
      ],
      "text/plain": [
       "                                                    tags      id\n",
       "0      ['Strategy', 'Action', 'Indie', 'Casual', 'Sim...  761140\n",
       "1      ['Strategy', 'Action', 'Indie', 'Casual', 'Sim...  761140\n",
       "2      ['Strategy', 'Action', 'Indie', 'Casual', 'Sim...  761140\n",
       "3      ['Strategy', 'Action', 'Indie', 'Casual', 'Sim...  761140\n",
       "4      ['Strategy', 'Action', 'Indie', 'Casual', 'Sim...  761140\n",
       "...                                                  ...     ...\n",
       "74832                  ['Indie', 'Simulation', 'Racing']  610660\n",
       "74833                  ['Indie', 'Simulation', 'Racing']  610660\n",
       "74834  ['Indie', 'Casual', 'Puzzle', 'Singleplayer', ...  658870\n",
       "74835  ['Indie', 'Casual', 'Puzzle', 'Singleplayer', ...  658870\n",
       "74836  ['Early Access', 'Adventure', 'Indie', 'Action...  681550\n",
       "\n",
       "[74837 rows x 2 columns]"
      ]
     },
     "execution_count": 3,
     "metadata": {},
     "output_type": "execute_result"
    }
   ],
   "source": [
    "# Mostrar dataframe\n",
    "df"
   ]
  },
  {
   "cell_type": "code",
   "execution_count": 4,
   "metadata": {},
   "outputs": [
    {
     "name": "stdout",
     "output_type": "stream",
     "text": [
      "<class 'pandas.core.frame.DataFrame'>\n",
      "RangeIndex: 74837 entries, 0 to 74836\n",
      "Data columns (total 2 columns):\n",
      " #   Column  Non-Null Count  Dtype \n",
      "---  ------  --------------  ----- \n",
      " 0   tags    74837 non-null  object\n",
      " 1   id      74837 non-null  int64 \n",
      "dtypes: int64(1), object(1)\n",
      "memory usage: 1.1+ MB\n"
     ]
    }
   ],
   "source": [
    "# Información data\n",
    "df.info()"
   ]
  },
  {
   "cell_type": "code",
   "execution_count": 5,
   "metadata": {},
   "outputs": [],
   "source": [
    "# Convierte la columna a tipo int32, baja la RAM\n",
    "df[\"id\"] = df[\"id\"].astype(\"int32\")"
   ]
  },
  {
   "cell_type": "code",
   "execution_count": 6,
   "metadata": {},
   "outputs": [
    {
     "name": "stdout",
     "output_type": "stream",
     "text": [
      "<class 'pandas.core.frame.DataFrame'>\n",
      "RangeIndex: 74837 entries, 0 to 74836\n",
      "Data columns (total 2 columns):\n",
      " #   Column  Non-Null Count  Dtype \n",
      "---  ------  --------------  ----- \n",
      " 0   tags    74837 non-null  object\n",
      " 1   id      74837 non-null  int32 \n",
      "dtypes: int32(1), object(1)\n",
      "memory usage: 877.1+ KB\n"
     ]
    }
   ],
   "source": [
    "# Revisar data de nuevo\n",
    "df.info()"
   ]
  },
  {
   "cell_type": "code",
   "execution_count": 7,
   "metadata": {},
   "outputs": [],
   "source": [
    "# Pasar a una lista\n",
    "df[\"tags\"] = df[\"tags\"].apply(lambda x: ast.literal_eval(x))"
   ]
  },
  {
   "cell_type": "code",
   "execution_count": 14,
   "metadata": {},
   "outputs": [],
   "source": [
    "# Explotar columna de tags\n",
    "df = df.explode(\"tags\").reset_index(drop=True)"
   ]
  },
  {
   "cell_type": "code",
   "execution_count": 15,
   "metadata": {},
   "outputs": [
    {
     "data": {
      "text/html": [
       "<div>\n",
       "<style scoped>\n",
       "    .dataframe tbody tr th:only-of-type {\n",
       "        vertical-align: middle;\n",
       "    }\n",
       "\n",
       "    .dataframe tbody tr th {\n",
       "        vertical-align: top;\n",
       "    }\n",
       "\n",
       "    .dataframe thead th {\n",
       "        text-align: right;\n",
       "    }\n",
       "</style>\n",
       "<table border=\"1\" class=\"dataframe\">\n",
       "  <thead>\n",
       "    <tr style=\"text-align: right;\">\n",
       "      <th></th>\n",
       "      <th>tags</th>\n",
       "      <th>id</th>\n",
       "    </tr>\n",
       "  </thead>\n",
       "  <tbody>\n",
       "    <tr>\n",
       "      <th>0</th>\n",
       "      <td>Strategy</td>\n",
       "      <td>761140</td>\n",
       "    </tr>\n",
       "    <tr>\n",
       "      <th>1</th>\n",
       "      <td>Action</td>\n",
       "      <td>761140</td>\n",
       "    </tr>\n",
       "    <tr>\n",
       "      <th>2</th>\n",
       "      <td>Indie</td>\n",
       "      <td>761140</td>\n",
       "    </tr>\n",
       "    <tr>\n",
       "      <th>3</th>\n",
       "      <td>Casual</td>\n",
       "      <td>761140</td>\n",
       "    </tr>\n",
       "    <tr>\n",
       "      <th>4</th>\n",
       "      <td>Simulation</td>\n",
       "      <td>761140</td>\n",
       "    </tr>\n",
       "    <tr>\n",
       "      <th>...</th>\n",
       "      <td>...</td>\n",
       "      <td>...</td>\n",
       "    </tr>\n",
       "    <tr>\n",
       "      <th>448163</th>\n",
       "      <td>Adventure</td>\n",
       "      <td>681550</td>\n",
       "    </tr>\n",
       "    <tr>\n",
       "      <th>448164</th>\n",
       "      <td>Indie</td>\n",
       "      <td>681550</td>\n",
       "    </tr>\n",
       "    <tr>\n",
       "      <th>448165</th>\n",
       "      <td>Action</td>\n",
       "      <td>681550</td>\n",
       "    </tr>\n",
       "    <tr>\n",
       "      <th>448166</th>\n",
       "      <td>Simulation</td>\n",
       "      <td>681550</td>\n",
       "    </tr>\n",
       "    <tr>\n",
       "      <th>448167</th>\n",
       "      <td>VR</td>\n",
       "      <td>681550</td>\n",
       "    </tr>\n",
       "  </tbody>\n",
       "</table>\n",
       "<p>448168 rows × 2 columns</p>\n",
       "</div>"
      ],
      "text/plain": [
       "              tags      id\n",
       "0         Strategy  761140\n",
       "1           Action  761140\n",
       "2            Indie  761140\n",
       "3           Casual  761140\n",
       "4       Simulation  761140\n",
       "...            ...     ...\n",
       "448163   Adventure  681550\n",
       "448164       Indie  681550\n",
       "448165      Action  681550\n",
       "448166  Simulation  681550\n",
       "448167          VR  681550\n",
       "\n",
       "[448168 rows x 2 columns]"
      ]
     },
     "execution_count": 15,
     "metadata": {},
     "output_type": "execute_result"
    }
   ],
   "source": [
    "# Revisar data   448168 rows x 2 columns\n",
    "df"
   ]
  },
  {
   "cell_type": "code",
   "execution_count": null,
   "metadata": {},
   "outputs": [],
   "source": [
    "#Guardamos nueva data en un archivo .csv\n",
    "df.to_csv('First_Game_desanidadoTag.csv', index=False)"
   ]
  }
 ],
 "metadata": {
  "kernelspec": {
   "display_name": "base",
   "language": "python",
   "name": "python3"
  },
  "language_info": {
   "codemirror_mode": {
    "name": "ipython",
    "version": 3
   },
   "file_extension": ".py",
   "mimetype": "text/x-python",
   "name": "python",
   "nbconvert_exporter": "python",
   "pygments_lexer": "ipython3",
   "version": "3.11.4"
  }
 },
 "nbformat": 4,
 "nbformat_minor": 2
}
